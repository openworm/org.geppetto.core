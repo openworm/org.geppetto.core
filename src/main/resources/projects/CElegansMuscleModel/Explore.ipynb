{
 "metadata": {
  "name": ""
 },
 "nbformat": 3,
 "nbformat_minor": 0,
 "worksheets": [
  {
   "cells": [
    {
     "cell_type": "markdown",
     "metadata": {},
     "source": [
      "##Simple IPython notebook to explore muscle cell model & channels"
     ]
    },
    {
     "cell_type": "markdown",
     "metadata": {},
     "source": [
      "### Load and access cell"
     ]
    },
    {
     "cell_type": "code",
     "collapsed": false,
     "input": [
      "import neuroml.loaders as loaders\n",
      "from neuroml import Cell\n",
      "\n",
      "cell_doc = loaders.NeuroMLLoader.load(\"SingleCompMuscle.cell.nml\")\n",
      "cell = cell_doc.cells[0]\n",
      "print('Loaded cell: %s'%cell.id)"
     ],
     "language": "python",
     "metadata": {},
     "outputs": [
      {
       "output_type": "stream",
       "stream": "stdout",
       "text": [
        "Loaded cell: SingleCompMuscleCell\n"
       ]
      }
     ],
     "prompt_number": 26
    },
    {
     "cell_type": "markdown",
     "metadata": {},
     "source": [
      "### Get information on morphology"
     ]
    },
    {
     "cell_type": "code",
     "collapsed": false,
     "input": [
      "segment = cell.morphology.segments[0]\n",
      "p = segment.proximal\n",
      "d = segment.distal\n",
      "\n",
      "print('Cell has a single segment (id: %s, name: %s) consisting of a cylinder from (%s, %s, %s) to (%s, %s, %s)' % \n",
      "      (segment.id, segment.name, p.x, p.y, p.z, d.x, d.y, d.z))"
     ],
     "language": "python",
     "metadata": {},
     "outputs": [
      {
       "output_type": "stream",
       "stream": "stdout",
       "text": [
        "Cell has a single segment (id: 0, name: Body) consisting of a cylinder from (0.0, 0.0, 0.0) to (0.0, 0.0, 230.3459)\n"
       ]
      }
     ],
     "prompt_number": 27
    },
    {
     "cell_type": "markdown",
     "metadata": {},
     "source": [
      "### Get information on membrane/channel properties"
     ]
    },
    {
     "cell_type": "code",
     "collapsed": false,
     "input": [
      "membrane_properties = cell.biophysical_properties.membrane_properties\n",
      "reversal_potentials = {}\n",
      "densities = {}\n",
      "\n",
      "for chan_dens in membrane_properties.channel_densities:\n",
      "    reversal_potentials[chan_dens.id] = chan_dens.erev\n",
      "    densities[chan_dens.id] = chan_dens.cond_density\n",
      "    \n",
      "print(\"Reversal potentials: %s\"%reversal_potentials)\n",
      "print(\"Channel densities: %s\"%densities)"
     ],
     "language": "python",
     "metadata": {},
     "outputs": [
      {
       "output_type": "stream",
       "stream": "stdout",
       "text": [
        "Reversal potentials: {'Leak_all': '10 mV', 'ca_boyle_all': '49.11 mV', 'k_fast_all': '-54.9998 mV', 'k_slow_all': '-64.3461 mV'}\n",
        "Channel densities: {'Leak_all': '0.0193181 mS_per_cm2', 'ca_boyle_all': '0.220209 mS_per_cm2', 'k_fast_all': '0.399994 mS_per_cm2', 'k_slow_all': '0.43584 mS_per_cm2'}\n"
       ]
      }
     ],
     "prompt_number": 28
    },
    {
     "cell_type": "markdown",
     "metadata": {},
     "source": [
      "### Load channel files"
     ]
    },
    {
     "cell_type": "code",
     "collapsed": false,
     "input": [
      "k_slow = loaders.NeuroMLLoader.load(\"k_slow.channel.nml\").ion_channel[0]\n",
      "k_fast = loaders.NeuroMLLoader.load(\"k_fast.channel.nml\").ion_channel[0]\n",
      "ca_boyle = loaders.NeuroMLLoader.load(\"ca_boyle.channel.nml\").ion_channel[0]\n",
      "\n",
      "for chan in [k_slow, k_fast, ca_boyle]:\n",
      "    print('Loaded channel: %s'%chan.id)\n",
      "    for g in chan.gate_hh_tau_infs:\n",
      "        print(\"  Gate %s present\"%g.id)\n",
      "        print(\"    Time course: %s, tau: %s\"%(g.time_course.type, g.time_course.tau))\n",
      "        print(\"    Steady state: %s, rate: %s, scale: %s, midpoint: %s\"%(g.steady_state.type, g.steady_state.rate, g.steady_state.scale, g.steady_state.midpoint))\n"
     ],
     "language": "python",
     "metadata": {},
     "outputs": [
      {
       "output_type": "stream",
       "stream": "stdout",
       "text": [
        "Loaded channel: k_slow\n",
        "  Gate n present\n",
        "    Time course: fixedTimeCourse, tau: 25.0007 ms\n",
        "    Steady state: HHSigmoidVariable, rate: 1.0, scale: 15.8512 mV, midpoint: 19.8741 mV\n",
        "Loaded channel: k_fast\n",
        "  Gate p present\n",
        "    Time course: fixedTimeCourse, tau: 2.25518 ms\n",
        "    Steady state: HHSigmoidVariable, rate: 1.0, scale: 7.42636 mV, midpoint: -8.05232 mV\n",
        "  Gate q present\n",
        "    Time course: fixedTimeCourse, tau: 149.963 ms\n",
        "    Steady state: HHSigmoidVariable, rate: 1.0, scale: -9.97468 mV, midpoint: -15.6456 mV\n",
        "Loaded channel: ca_boyle\n",
        "  Gate e present\n",
        "    Time course: fixedTimeCourse, tau: 0.100027 ms\n",
        "    Steady state: HHSigmoidVariable, rate: 1.0, scale: 6.74821 mV, midpoint: -3.3568 mV\n",
        "  Gate f present\n",
        "    Time course: fixedTimeCourse, tau: 150.88 ms\n",
        "    Steady state: HHSigmoidVariable, rate: 1.0, scale: -5.03176 mV, midpoint: 25.1815 mV\n"
       ]
      }
     ],
     "prompt_number": 30
    },
    {
     "cell_type": "code",
     "collapsed": false,
     "input": [],
     "language": "python",
     "metadata": {},
     "outputs": [],
     "prompt_number": 29
    },
    {
     "cell_type": "code",
     "collapsed": false,
     "input": [],
     "language": "python",
     "metadata": {},
     "outputs": [],
     "prompt_number": 29
    }
   ],
   "metadata": {}
  }
 ]
}